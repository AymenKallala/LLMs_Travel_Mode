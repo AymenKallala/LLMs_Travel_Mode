{
 "cells": [
  {
   "cell_type": "code",
   "execution_count": 55,
   "metadata": {},
   "outputs": [],
   "source": [
    "import pandas as pd\n",
    "from data import load_for_correction"
   ]
  },
  {
   "cell_type": "code",
   "execution_count": 56,
   "metadata": {},
   "outputs": [],
   "source": [
    "CORRECTION_PATH = 'results/Correction_in_context.csv'\n",
    "GT_PATH = 'results/0_1999_In_Context_Learning.csv'"
   ]
  },
  {
   "cell_type": "code",
   "execution_count": 57,
   "metadata": {},
   "outputs": [],
   "source": [
    "dataset,gt = load_for_correction(GT_PATH,start=0,end=40)\n",
    "correction = pd.read_csv(CORRECTION_PATH)"
   ]
  },
  {
   "cell_type": "code",
   "execution_count": 58,
   "metadata": {},
   "outputs": [],
   "source": [
    "def correcter_rate(pred, groundtruth):\n",
    "    n = len(groundtruth)\n",
    "    gt = groundtruth[[\"Travel_mode_verification\", \"Satisfaction_verification\"]]\n",
    "    pred = pred[[\"Travel_mode_verification\", \"Satisfaction_verification\"]][:n].replace(to_replace={'Correct':True,'Not Correct':False})\n",
    "\n",
    "    correct_pred = sum(\n",
    "        pred[\"Travel_mode_verification\"] == gt[\"Travel_mode_verification\"]\n",
    "    ) + sum(pred[\"Satisfaction_verification\"] == gt[\"Satisfaction_verification\"])\n",
    "    total = n* 2\n",
    "\n",
    "    return correct_pred / total"
   ]
  },
  {
   "cell_type": "code",
   "execution_count": 59,
   "metadata": {},
   "outputs": [
    {
     "name": "stdout",
     "output_type": "stream",
     "text": [
      " Trust rate: 0.7125\n"
     ]
    }
   ],
   "source": [
    "print(f\" Trust rate: {correcter_rate(correction,gt)}\")"
   ]
  },
  {
   "cell_type": "code",
   "execution_count": null,
   "metadata": {},
   "outputs": [],
   "source": []
  }
 ],
 "metadata": {
  "kernelspec": {
   "display_name": "llm",
   "language": "python",
   "name": "python3"
  },
  "language_info": {
   "codemirror_mode": {
    "name": "ipython",
    "version": 3
   },
   "file_extension": ".py",
   "mimetype": "text/x-python",
   "name": "python",
   "nbconvert_exporter": "python",
   "pygments_lexer": "ipython3",
   "version": "3.12.1"
  }
 },
 "nbformat": 4,
 "nbformat_minor": 2
}
